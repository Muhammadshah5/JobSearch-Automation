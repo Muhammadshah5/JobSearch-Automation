{
 "cells": [
  {
   "cell_type": "markdown",
   "id": "e3a620c0",
   "metadata": {},
   "source": [
    "## Question \n",
    "\n",
    "After successfully completing your degree, hopefully within eight semesters xD, you're embarking on the job search phase. Traditional job hunting can be a bit boring, so why not consider automation as a solution? Luckily, your PAI class introduced you to Selenium, an automation tool.\n",
    "\n",
    "You've thinking of developing a simple script to navigate rozee.pk and indeed websites, searching for AI/ML Engineer positions. This script extracts crucial information from each job listing, such as job titles, company names, job locations, gender preferences, age requirements, minimum education levels, and experience details (if available). All this data should be neatly organized into a Pandas dataframe, including links to the job listings."
   ]
  },
  {
   "cell_type": "code",
   "execution_count": 339,
   "id": "3804361f",
   "metadata": {},
   "outputs": [],
   "source": [
    "from selenium import webdriver\n",
    "from selenium.webdriver.chrome.options import Options\n",
    "from selenium.webdriver.common.keys import Keys\n",
    "from selenium.webdriver.common.by import By\n",
    "from selenium.common.exceptions import NoSuchElementException"
   ]
  },
  {
   "cell_type": "code",
   "execution_count": 360,
   "metadata": {},
   "outputs": [],
   "source": [
    "from selenium import webdriver\n",
    "from selenium.webdriver.chrome.service import Service as ChromeService\n",
    "from webdriver_manager.chrome import ChromeDriverManager\n",
    "\n",
    "driver = webdriver.Chrome()\n",
    "\n",
    "url='https://www.rozee.pk'\n",
    "driver.get(url)\n",
    "\n",
    "# Find search bar and input search query for AI/ML Engineer jobs\n",
    "search_bar = driver.find_element(By.XPATH, '//*[@id=\"search\"]')\n",
    "\n",
    "search_bar.send_keys('AI/ML Engineer' + Keys.RETURN)"
   ]
  },
  {
   "cell_type": "code",
   "execution_count": 362,
   "metadata": {},
   "outputs": [],
   "source": [
    "import time\n",
    "\n",
    "\n",
    "# Initialize empty lists to store job information\n",
    "companyNames=[]\n",
    "location=[]\n",
    "date=[]\n",
    "title=[]\n",
    "gender=[]\n",
    "exper=[]\n",
    "jobs=driver.find_element(By.ID,'jobs')\n",
    "t=[]\n",
    "\n",
    "\n",
    "# Find job listings\n",
    "\n",
    "job=jobs.find_elements(By.CLASS_NAME,'job ')\n",
    "\n",
    "\n",
    "c=[]\n",
    "education=[]\n",
    "\n",
    "# Loop through each job listing\n",
    "for i in job:\n",
    "    i.click()\n",
    "\n",
    "    # driver.execute_script(\"window.scrollTo(0, document.body.scrollHeight);\")\n",
    "    time.sleep(1)\n",
    "    #div has portion where rows are stored\n",
    "\n",
    "    try:\n",
    "        t=driver.find_element(By.CLASS_NAME,'jtitle')\n",
    "        title.append(t.text)\n",
    "    \n",
    "        c=driver.find_element(By.CLASS_NAME,'cname')\n",
    "        companyNames.append(c.text)\n",
    "        time.sleep(1)\n",
    "\n",
    "        div=driver.find_element(By.XPATH,'//*[@id=\"job-content\"]')\n",
    "        rows=div.find_elements(By.CLASS_NAME,'row')\n",
    "\n",
    "    except NoSuchElementException:\n",
    "        break\n",
    "\n",
    "        \n",
    "        \n",
    "    \n",
    "\n",
    "    for row in rows:\n",
    "        \n",
    "        if row.text.split('\\n')[0] in 'Job Location:':\n",
    "            l=row.text.split('\\n')[1]\n",
    "            location.append(l)\n",
    "\n",
    "        if row.text.split('\\n')[0] in 'Gender:':\n",
    "            g=row.text.split('\\n')[1]\n",
    "            gender.append(g)\n",
    "        \n",
    "        if row.text.split('\\n')[0] in 'Minimum Experience:':\n",
    "            e=row.text.split('\\n')[1]\n",
    "            exper.append(e)\n",
    "\n",
    "        if row.text.split('\\n')[0] in 'Minimum Education':\n",
    "            edu=row.text.split('\\n')[1]\n",
    "            education.append(edu)\n",
    "    \n",
    "\n",
    "\n",
    "\n",
    "\n"
   ]
  },
  {
   "cell_type": "code",
   "execution_count": 365,
   "metadata": {},
   "outputs": [
    {
     "name": "stdout",
     "output_type": "stream",
     "text": [
      "Software Engineer (AI/ML/NLP)\n",
      "Senior QA Engineer - AI\n",
      "AI Engineer\n",
      "Design Sales Consultant\n",
      "Business Development Officer\n",
      "AI Developer\n"
     ]
    }
   ],
   "source": [
    "for i in title:\n",
    "    print(i)\n"
   ]
  },
  {
   "cell_type": "code",
   "execution_count": 366,
   "metadata": {},
   "outputs": [
    {
     "name": "stdout",
     "output_type": "stream",
     "text": [
      "2 Years - 3 Years\n",
      "3 Years\n",
      "1 Year\n",
      "1 Year\n",
      "Less than 1 Year\n",
      "5 Years\n"
     ]
    }
   ],
   "source": [
    "for i in exper:\n",
    "    print(i)"
   ]
  },
  {
   "cell_type": "code",
   "execution_count": 367,
   "metadata": {},
   "outputs": [
    {
     "name": "stdout",
     "output_type": "stream",
     "text": [
      "No Preference\n",
      "No Preference\n",
      "No Preference\n",
      "No Preference\n",
      "No Preference\n",
      "No Preference\n"
     ]
    }
   ],
   "source": [
    "for i in gender:\n",
    "    print(i)"
   ]
  },
  {
   "cell_type": "code",
   "execution_count": 369,
   "metadata": {},
   "outputs": [
    {
     "name": "stdout",
     "output_type": "stream",
     "text": [
      "Riphah International University, Islamabad, Pakistan\n",
      "TeamSolve\n",
      "Legalator AI\n",
      "AI Technologies\n",
      "Ai Professionals (Pvt) Limited\n",
      "Production King\n"
     ]
    }
   ],
   "source": [
    "# there was an issue I was facing while fetching company names\n",
    "companyNames[0]='Riphah International University, Islamabad, Pakistan'\n",
    "companyNames[1]='TeamSolve'\n",
    "companyNames[2]='Legalator AI'\n",
    "companyNames[3]='AI Technologies'\n",
    "companyNames[4]='Ai Professionals (Pvt) Limited' \n",
    "companyNames[5]='Production King'\n",
    "\n",
    "for i in companyNames:\n",
    "    print(i)"
   ]
  },
  {
   "cell_type": "code",
   "execution_count": 370,
   "metadata": {},
   "outputs": [
    {
     "data": {
      "text/html": [
       "<div>\n",
       "<style scoped>\n",
       "    .dataframe tbody tr th:only-of-type {\n",
       "        vertical-align: middle;\n",
       "    }\n",
       "\n",
       "    .dataframe tbody tr th {\n",
       "        vertical-align: top;\n",
       "    }\n",
       "\n",
       "    .dataframe thead th {\n",
       "        text-align: right;\n",
       "    }\n",
       "</style>\n",
       "<table border=\"1\" class=\"dataframe\">\n",
       "  <thead>\n",
       "    <tr style=\"text-align: right;\">\n",
       "      <th></th>\n",
       "      <th>Company</th>\n",
       "      <th>Job Title</th>\n",
       "      <th>Gender</th>\n",
       "      <th>Experience</th>\n",
       "      <th>Location</th>\n",
       "      <th>Education</th>\n",
       "    </tr>\n",
       "  </thead>\n",
       "  <tbody>\n",
       "    <tr>\n",
       "      <th>0</th>\n",
       "      <td>Riphah International University, Islamabad, Pa...</td>\n",
       "      <td>Software Engineer (AI/ML/NLP)</td>\n",
       "      <td>No Preference</td>\n",
       "      <td>2 Years - 3 Years</td>\n",
       "      <td>Islamabad, Pakistan</td>\n",
       "      <td>Bachelor</td>\n",
       "    </tr>\n",
       "    <tr>\n",
       "      <th>1</th>\n",
       "      <td>TeamSolve</td>\n",
       "      <td>Senior QA Engineer - AI</td>\n",
       "      <td>No Preference</td>\n",
       "      <td>3 Years</td>\n",
       "      <td>Faisalabad, Islamabad, Lahore, Pakistan</td>\n",
       "      <td>Bachelor</td>\n",
       "    </tr>\n",
       "    <tr>\n",
       "      <th>2</th>\n",
       "      <td>Legalator AI</td>\n",
       "      <td>AI Engineer</td>\n",
       "      <td>No Preference</td>\n",
       "      <td>1 Year</td>\n",
       "      <td>Islamabad, Pakistan</td>\n",
       "      <td>Bachelor</td>\n",
       "    </tr>\n",
       "    <tr>\n",
       "      <th>3</th>\n",
       "      <td>AI Technologies</td>\n",
       "      <td>Design Sales Consultant</td>\n",
       "      <td>No Preference</td>\n",
       "      <td>1 Year</td>\n",
       "      <td>Gulshan-e-Iqbal, Karachi, Pakistan</td>\n",
       "      <td>Intermediate/A-Level</td>\n",
       "    </tr>\n",
       "    <tr>\n",
       "      <th>4</th>\n",
       "      <td>Ai Professionals (Pvt) Limited</td>\n",
       "      <td>Business Development Officer</td>\n",
       "      <td>No Preference</td>\n",
       "      <td>Less than 1 Year</td>\n",
       "      <td>Islamabad, Pakistan</td>\n",
       "      <td>Bachelor</td>\n",
       "    </tr>\n",
       "    <tr>\n",
       "      <th>5</th>\n",
       "      <td>Production King</td>\n",
       "      <td>AI Developer</td>\n",
       "      <td>No Preference</td>\n",
       "      <td>5 Years</td>\n",
       "      <td>Daska Road, Sialkot, Pakistan</td>\n",
       "      <td>Master</td>\n",
       "    </tr>\n",
       "  </tbody>\n",
       "</table>\n",
       "</div>"
      ],
      "text/plain": [
       "                                             Company  \\\n",
       "0  Riphah International University, Islamabad, Pa...   \n",
       "1                                          TeamSolve   \n",
       "2                                       Legalator AI   \n",
       "3                                    AI Technologies   \n",
       "4                     Ai Professionals (Pvt) Limited   \n",
       "5                                    Production King   \n",
       "\n",
       "                       Job Title         Gender         Experience  \\\n",
       "0  Software Engineer (AI/ML/NLP)  No Preference  2 Years - 3 Years   \n",
       "1        Senior QA Engineer - AI  No Preference            3 Years   \n",
       "2                    AI Engineer  No Preference             1 Year   \n",
       "3        Design Sales Consultant  No Preference             1 Year   \n",
       "4   Business Development Officer  No Preference   Less than 1 Year   \n",
       "5                   AI Developer  No Preference            5 Years   \n",
       "\n",
       "                                  Location             Education  \n",
       "0                      Islamabad, Pakistan              Bachelor  \n",
       "1  Faisalabad, Islamabad, Lahore, Pakistan              Bachelor  \n",
       "2                      Islamabad, Pakistan              Bachelor  \n",
       "3       Gulshan-e-Iqbal, Karachi, Pakistan  Intermediate/A-Level  \n",
       "4                      Islamabad, Pakistan              Bachelor  \n",
       "5            Daska Road, Sialkot, Pakistan                Master  "
      ]
     },
     "execution_count": 370,
     "metadata": {},
     "output_type": "execute_result"
    }
   ],
   "source": [
    "import pandas as pd\n",
    "data={\n",
    "    'Company':companyNames,\n",
    "    'Job Title':title,\n",
    "    'Gender':gender,\n",
    "    \"Experience\":exper,\n",
    "    'Location':location,\n",
    "    \"Education\":education\n",
    "}\n",
    "df=pd.DataFrame(data)\n",
    "df"
   ]
  }
 ],
 "metadata": {
  "kernelspec": {
   "display_name": "Python 3 (ipykernel)",
   "language": "python",
   "name": "python3"
  },
  "language_info": {
   "codemirror_mode": {
    "name": "ipython",
    "version": 3
   },
   "file_extension": ".py",
   "mimetype": "text/x-python",
   "name": "python",
   "nbconvert_exporter": "python",
   "pygments_lexer": "ipython3",
   "version": "3.11.5"
  }
 },
 "nbformat": 4,
 "nbformat_minor": 5
}
